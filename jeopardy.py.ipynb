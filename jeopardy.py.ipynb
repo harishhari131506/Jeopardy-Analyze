{
 "cells": [
  {
   "cell_type": "code",
   "execution_count": 9,
   "metadata": {},
   "outputs": [
    {
     "name": "stdout",
     "output_type": "stream",
     "text": [
      "Index(['Show Number', ' Air Date', ' Round', ' Category', ' Value',\n",
      "       ' Question', ' Answer'],\n",
      "      dtype='object')\n"
     ]
    }
   ],
   "source": [
    "import pandas as pd\n",
    "pd.set_option('display.max_colwidth', None)\n",
    "jeopardy_data = pd.read_csv(\"jeopardy.csv\")\n",
    "print(jeopardy_data.columns)"
   ]
  },
  {
   "cell_type": "code",
   "execution_count": 10,
   "metadata": {},
   "outputs": [
    {
     "name": "stdout",
     "output_type": "stream",
     "text": [
      "Index(['Show Number', 'Air Date', 'Round', 'Category', 'Value', 'Question',\n",
      "       'Answer'],\n",
      "      dtype='object')\n",
      "0                               For the last 8 years of his life, Galileo was under house arrest for espousing this man's theory\n",
      "1                    No. 2: 1912 Olympian; football star at Carlisle Indian School; 6 MLB seasons with the Reds, Giants & Braves\n",
      "2                                       The city of Yuma in this state has a record average of 4,055 hours of sunshine each year\n",
      "3                                           In 1963, live on \"The Art Linkletter Show\", this company served its billionth burger\n",
      "4                       Signer of the Dec. of Indep., framer of the Constitution of Mass., second President of the United States\n",
      "                                                                   ...                                                          \n",
      "216925                                                This Puccini opera turns on the solution to 3 riddles posed by the heroine\n",
      "216926                   In North America this term is properly applied to only 4 species that are crested, including the tufted\n",
      "216927                 In Penny Lane, where this \"Hellraiser\" grew up, the barber shaves another customer--then flays him alive!\n",
      "216928    From Ft. Sill, Okla. he made the plea, Arizona is my land, my home, my father's land, to which I now ask to... return\"\n",
      "216929                   A silent movie title includes the last name of this 18th c. statesman & favorite of Catherine the Great\n",
      "Name: Question, Length: 216930, dtype: object\n"
     ]
    }
   ],
   "source": [
    "jeopardy_data = jeopardy_data.rename(columns = {\" Air Date\": \"Air Date\", \" Round\" : \"Round\", \" Category\": \"Category\", \" Value\": \"Value\", \" Question\":\"Question\", \" Answer\": \"Answer\"})\n",
    "print(jeopardy_data.columns)\n",
    "print(jeopardy_data[\"Question\"])"
   ]
  },
  {
   "cell_type": "code",
   "execution_count": 13,
   "metadata": {},
   "outputs": [],
   "source": [
    "def filter_data(data, words):\n",
    "  filter = lambda x: all(word.lower() in x.lower() for word in words)\n",
    "  return data.loc[data[\"Question\"].apply(filter)]\n"
   ]
  },
  {
   "cell_type": "code",
   "execution_count": 16,
   "metadata": {},
   "outputs": [
    {
     "data": {
      "text/html": [
       "<div>\n",
       "<style scoped>\n",
       "    .dataframe tbody tr th:only-of-type {\n",
       "        vertical-align: middle;\n",
       "    }\n",
       "\n",
       "    .dataframe tbody tr th {\n",
       "        vertical-align: top;\n",
       "    }\n",
       "\n",
       "    .dataframe thead th {\n",
       "        text-align: right;\n",
       "    }\n",
       "</style>\n",
       "<table border=\"1\" class=\"dataframe\">\n",
       "  <thead>\n",
       "    <tr style=\"text-align: right;\">\n",
       "      <th></th>\n",
       "      <th>Show Number</th>\n",
       "      <th>Air Date</th>\n",
       "      <th>Round</th>\n",
       "      <th>Category</th>\n",
       "      <th>Value</th>\n",
       "      <th>Question</th>\n",
       "      <th>Answer</th>\n",
       "    </tr>\n",
       "  </thead>\n",
       "  <tbody>\n",
       "    <tr>\n",
       "      <th>4953</th>\n",
       "      <td>3003</td>\n",
       "      <td>1997-09-24</td>\n",
       "      <td>Double Jeopardy!</td>\n",
       "      <td>\"PH\"UN WORDS</td>\n",
       "      <td>$200</td>\n",
       "      <td>Both England's King George V &amp; FDR put their stamp of approval on this \"King of Hobbies\"</td>\n",
       "      <td>Philately (stamp collecting)</td>\n",
       "    </tr>\n",
       "    <tr>\n",
       "      <th>6337</th>\n",
       "      <td>3517</td>\n",
       "      <td>1999-12-14</td>\n",
       "      <td>Double Jeopardy!</td>\n",
       "      <td>Y1K</td>\n",
       "      <td>$800</td>\n",
       "      <td>In retaliation for Viking raids, this \"Unready\" king of England attacks Norse areas of the Isle of Man</td>\n",
       "      <td>Ethelred</td>\n",
       "    </tr>\n",
       "    <tr>\n",
       "      <th>9191</th>\n",
       "      <td>3907</td>\n",
       "      <td>2001-09-04</td>\n",
       "      <td>Double Jeopardy!</td>\n",
       "      <td>WON THE BATTLE</td>\n",
       "      <td>$800</td>\n",
       "      <td>This king of England beat the odds to trounce the French in the 1415 Battle of Agincourt</td>\n",
       "      <td>Henry V</td>\n",
       "    </tr>\n",
       "    <tr>\n",
       "      <th>11710</th>\n",
       "      <td>2903</td>\n",
       "      <td>1997-03-26</td>\n",
       "      <td>Double Jeopardy!</td>\n",
       "      <td>BRITISH MONARCHS</td>\n",
       "      <td>$600</td>\n",
       "      <td>This Scotsman, the first Stuart king of England, was called \"The Wisest Fool in Christendom\"</td>\n",
       "      <td>James I</td>\n",
       "    </tr>\n",
       "    <tr>\n",
       "      <th>13454</th>\n",
       "      <td>4726</td>\n",
       "      <td>2005-03-07</td>\n",
       "      <td>Jeopardy!</td>\n",
       "      <td>A NUMBER FROM 1 TO 10</td>\n",
       "      <td>$1000</td>\n",
       "      <td>It's the number that followed the last king of England named William</td>\n",
       "      <td>4</td>\n",
       "    </tr>\n",
       "    <tr>\n",
       "      <th>...</th>\n",
       "      <td>...</td>\n",
       "      <td>...</td>\n",
       "      <td>...</td>\n",
       "      <td>...</td>\n",
       "      <td>...</td>\n",
       "      <td>...</td>\n",
       "      <td>...</td>\n",
       "    </tr>\n",
       "    <tr>\n",
       "      <th>208295</th>\n",
       "      <td>4621</td>\n",
       "      <td>2004-10-11</td>\n",
       "      <td>Jeopardy!</td>\n",
       "      <td>THE VIKINGS</td>\n",
       "      <td>$600</td>\n",
       "      <td>In 1066 this great-great grandson of Rollo made what some call the last Viking invasion of England</td>\n",
       "      <td>William the Conqueror</td>\n",
       "    </tr>\n",
       "    <tr>\n",
       "      <th>208742</th>\n",
       "      <td>4863</td>\n",
       "      <td>2005-11-02</td>\n",
       "      <td>Double Jeopardy!</td>\n",
       "      <td>BEFORE &amp; AFTER</td>\n",
       "      <td>$3,000</td>\n",
       "      <td>Dutch-born king who ruled England jointly with Mary II &amp; is a tasty New Zealand fish</td>\n",
       "      <td>William of Orange roughy</td>\n",
       "    </tr>\n",
       "    <tr>\n",
       "      <th>213870</th>\n",
       "      <td>5856</td>\n",
       "      <td>2010-02-15</td>\n",
       "      <td>Double Jeopardy!</td>\n",
       "      <td>URANUS</td>\n",
       "      <td>$1600</td>\n",
       "      <td>In 1781 William Herschel discovered Uranus &amp; initially named it after this king of England</td>\n",
       "      <td>George III</td>\n",
       "    </tr>\n",
       "    <tr>\n",
       "      <th>216021</th>\n",
       "      <td>1881</td>\n",
       "      <td>1992-11-09</td>\n",
       "      <td>Double Jeopardy!</td>\n",
       "      <td>HISTORIC NAMES</td>\n",
       "      <td>$1000</td>\n",
       "      <td>His nickname was \"Bertie\", but he used this name &amp; number when he became king of England in 1901</td>\n",
       "      <td>Edward VII</td>\n",
       "    </tr>\n",
       "    <tr>\n",
       "      <th>216789</th>\n",
       "      <td>5070</td>\n",
       "      <td>2006-09-29</td>\n",
       "      <td>Double Jeopardy!</td>\n",
       "      <td>ANCIENT HISTORY</td>\n",
       "      <td>$1200</td>\n",
       "      <td>This kingdom of England grew from 2 settlements, one founded around 495 by Cerdic &amp; his son Cynric</td>\n",
       "      <td>Wessex</td>\n",
       "    </tr>\n",
       "  </tbody>\n",
       "</table>\n",
       "<p>152 rows × 7 columns</p>\n",
       "</div>"
      ],
      "text/plain": [
       "        Show Number    Air Date             Round               Category  \\\n",
       "4953           3003  1997-09-24  Double Jeopardy!           \"PH\"UN WORDS   \n",
       "6337           3517  1999-12-14  Double Jeopardy!                    Y1K   \n",
       "9191           3907  2001-09-04  Double Jeopardy!         WON THE BATTLE   \n",
       "11710          2903  1997-03-26  Double Jeopardy!       BRITISH MONARCHS   \n",
       "13454          4726  2005-03-07         Jeopardy!  A NUMBER FROM 1 TO 10   \n",
       "...             ...         ...               ...                    ...   \n",
       "208295         4621  2004-10-11         Jeopardy!            THE VIKINGS   \n",
       "208742         4863  2005-11-02  Double Jeopardy!         BEFORE & AFTER   \n",
       "213870         5856  2010-02-15  Double Jeopardy!                 URANUS   \n",
       "216021         1881  1992-11-09  Double Jeopardy!         HISTORIC NAMES   \n",
       "216789         5070  2006-09-29  Double Jeopardy!        ANCIENT HISTORY   \n",
       "\n",
       "         Value  \\\n",
       "4953      $200   \n",
       "6337      $800   \n",
       "9191      $800   \n",
       "11710     $600   \n",
       "13454    $1000   \n",
       "...        ...   \n",
       "208295    $600   \n",
       "208742  $3,000   \n",
       "213870   $1600   \n",
       "216021   $1000   \n",
       "216789   $1200   \n",
       "\n",
       "                                                                                                      Question  \\\n",
       "4953                  Both England's King George V & FDR put their stamp of approval on this \"King of Hobbies\"   \n",
       "6337    In retaliation for Viking raids, this \"Unready\" king of England attacks Norse areas of the Isle of Man   \n",
       "9191                  This king of England beat the odds to trounce the French in the 1415 Battle of Agincourt   \n",
       "11710             This Scotsman, the first Stuart king of England, was called \"The Wisest Fool in Christendom\"   \n",
       "13454                                     It's the number that followed the last king of England named William   \n",
       "...                                                                                                        ...   \n",
       "208295      In 1066 this great-great grandson of Rollo made what some call the last Viking invasion of England   \n",
       "208742                    Dutch-born king who ruled England jointly with Mary II & is a tasty New Zealand fish   \n",
       "213870              In 1781 William Herschel discovered Uranus & initially named it after this king of England   \n",
       "216021        His nickname was \"Bertie\", but he used this name & number when he became king of England in 1901   \n",
       "216789      This kingdom of England grew from 2 settlements, one founded around 495 by Cerdic & his son Cynric   \n",
       "\n",
       "                              Answer  \n",
       "4953    Philately (stamp collecting)  \n",
       "6337                        Ethelred  \n",
       "9191                         Henry V  \n",
       "11710                        James I  \n",
       "13454                              4  \n",
       "...                              ...  \n",
       "208295         William the Conqueror  \n",
       "208742      William of Orange roughy  \n",
       "213870                    George III  \n",
       "216021                    Edward VII  \n",
       "216789                        Wessex  \n",
       "\n",
       "[152 rows x 7 columns]"
      ]
     },
     "execution_count": 16,
     "metadata": {},
     "output_type": "execute_result"
    }
   ],
   "source": [
    "filtered = filter_data(jeopardy_data, [\"King\", \"England\"])\n",
    "filtered"
   ]
  },
  {
   "cell_type": "code",
   "execution_count": 20,
   "metadata": {},
   "outputs": [
    {
     "data": {
      "text/plain": [
       "0          200.0\n",
       "1          200.0\n",
       "2          200.0\n",
       "3          200.0\n",
       "4          200.0\n",
       "           ...  \n",
       "216925    2000.0\n",
       "216926    2000.0\n",
       "216927    2000.0\n",
       "216928    2000.0\n",
       "216929       0.0\n",
       "Name: Float Value, Length: 216930, dtype: float64"
      ]
     },
     "execution_count": 20,
     "metadata": {},
     "output_type": "execute_result"
    }
   ],
   "source": [
    "jeopardy_data[\"Float Value\"] = jeopardy_data[\"Value\"].apply(lambda x: float(x[1:].replace(',','')) if x != \"None\" else 0)\n",
    "jeopardy_data[\"Float Value\"]"
   ]
  },
  {
   "cell_type": "code",
   "execution_count": 24,
   "metadata": {},
   "outputs": [
    {
     "name": "stdout",
     "output_type": "stream",
     "text": [
      "   Show Number    Air Date      Round                         Category Value  \\\n",
      "0         4680  2004-12-31  Jeopardy!                          HISTORY  $200   \n",
      "1         4680  2004-12-31  Jeopardy!  ESPN's TOP 10 ALL-TIME ATHLETES  $200   \n",
      "2         4680  2004-12-31  Jeopardy!      EVERYBODY TALKS ABOUT IT...  $200   \n",
      "3         4680  2004-12-31  Jeopardy!                 THE COMPANY LINE  $200   \n",
      "4         4680  2004-12-31  Jeopardy!              EPITAPHS & TRIBUTES  $200   \n",
      "\n",
      "                                                                                                      Question  \\\n",
      "0             For the last 8 years of his life, Galileo was under house arrest for espousing this man's theory   \n",
      "1  No. 2: 1912 Olympian; football star at Carlisle Indian School; 6 MLB seasons with the Reds, Giants & Braves   \n",
      "2                     The city of Yuma in this state has a record average of 4,055 hours of sunshine each year   \n",
      "3                         In 1963, live on \"The Art Linkletter Show\", this company served its billionth burger   \n",
      "4     Signer of the Dec. of Indep., framer of the Constitution of Mass., second President of the United States   \n",
      "\n",
      "       Answer  Float Value  \n",
      "0  Copernicus        200.0  \n",
      "1  Jim Thorpe        200.0  \n",
      "2     Arizona        200.0  \n",
      "3  McDonald's        200.0  \n",
      "4  John Adams        200.0  \n"
     ]
    }
   ],
   "source": [
    "print(jeopardy_data.head())"
   ]
  },
  {
   "cell_type": "code",
   "execution_count": 25,
   "metadata": {},
   "outputs": [
    {
     "name": "stdout",
     "output_type": "stream",
     "text": [
      "771.8833850722094\n"
     ]
    }
   ],
   "source": [
    "filtered = filter_data(jeopardy_data, [\"King\"])\n",
    "\n",
    "print(filtered[\"Float Value\"].mean())"
   ]
  },
  {
   "cell_type": "code",
   "execution_count": 26,
   "metadata": {},
   "outputs": [],
   "source": [
    "def get_answer_counts(data):\n",
    "    return data[\"Answer\"].value_counts()"
   ]
  },
  {
   "cell_type": "code",
   "execution_count": 27,
   "metadata": {},
   "outputs": [
    {
     "name": "stdout",
     "output_type": "stream",
     "text": [
      "Henry VIII                                 55\n",
      "Solomon                                    35\n",
      "Richard III                                33\n",
      "Louis XIV                                  31\n",
      "David                                      30\n",
      "                                           ..\n",
      "the palate                                  1\n",
      "M and F                                     1\n",
      "Clerks                                      1\n",
      "capital letters (or upper case letters)     1\n",
      "0                                           1\n",
      "Name: Answer, Length: 5268, dtype: int64\n"
     ]
    }
   ],
   "source": [
    "print(get_answer_counts(filtered))"
   ]
  },
  {
   "cell_type": "code",
   "execution_count": 28,
   "metadata": {},
   "outputs": [
    {
     "name": "stdout",
     "output_type": "stream",
     "text": [
      "34                                  oratory\n",
      "40                                   Yertle\n",
      "50                      Bartholomew Cubbins\n",
      "56                                  England\n",
      "72                                    jacks\n",
      "                        ...                \n",
      "216777    a pyramid (the pyramids accepted)\n",
      "216787                       The Nutcracker\n",
      "216789                               Wessex\n",
      "216856                         (Martin) Yan\n",
      "216916                                 work\n",
      "Name: Answer, Length: 7409, dtype: object\n"
     ]
    }
   ],
   "source": [
    "print(filtered[\"Answer\"])"
   ]
  },
  {
   "cell_type": "code",
   "execution_count": null,
   "metadata": {},
   "outputs": [],
   "source": []
  }
 ],
 "metadata": {
  "kernelspec": {
   "display_name": "Python 3",
   "language": "python",
   "name": "python3"
  },
  "language_info": {
   "codemirror_mode": {
    "name": "ipython",
    "version": 3
   },
   "file_extension": ".py",
   "mimetype": "text/x-python",
   "name": "python",
   "nbconvert_exporter": "python",
   "pygments_lexer": "ipython3",
   "version": "3.8.3"
  }
 },
 "nbformat": 4,
 "nbformat_minor": 4
}
